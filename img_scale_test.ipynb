{
 "cells": [
  {
   "cell_type": "code",
   "execution_count": 1,
   "metadata": {},
   "outputs": [],
   "source": [
    "from PIL import Image, ImageDraw, ImageFont\n",
    "# Загружаем шрифт нашего почерка@\n",
    "font = ImageFont.truetype(\"./fonts/MyFont1.otf\", size=67)"
   ]
  },
  {
   "cell_type": "code",
   "execution_count": null,
   "metadata": {},
   "outputs": [],
   "source": [
    "from PIL import Image\n",
    "\n",
    "image_path = './square.png'\n",
    "\n",
    "img = Image.open(image_path)\n",
    "# получаем ширину и высоту\n",
    "width, height = img.size\n",
    "print(width, height)\n",
    "# открываем картинку в окне\n",
    "\n",
    "new_image = img.resize((200, 385))\n",
    "new_image.show()\n",
    "\n",
    "new_image.save('./square_2.png')\n",
    "# это работает для картинок"
   ]
  },
  {
   "cell_type": "code",
   "execution_count": 7,
   "metadata": {},
   "outputs": [],
   "source": [
    "from PIL import Image, ImageDraw, ImageFont\n",
    "# Загружаем шрифт нашего почерка@\n",
    "font = ImageFont.truetype(\"./fonts/MyFont1.otf\", size=67)\n",
    "\n",
    "y_position = 55\n",
    "\n",
    "\n",
    "canvas_image_path = './img/cells_half.png'\n",
    "line_image_path = './img/line_empty.png'\n",
    "\n",
    "canvas_image = Image.open(canvas_image_path)\n",
    "\n",
    "line_img = Image.open(line_image_path)\n",
    "\n",
    "draw = ImageDraw.Draw(line_img)\n",
    "draw.text((0, 0), 'Колебания дза', fill='blue', font=font)\n",
    "\n",
    "resized_line_img = line_img.resize((1660, 110))\n",
    "\n",
    "copy_canvas_image = canvas_image.copy()\n",
    "\n",
    "\n",
    "canvas_image.paste(resized_line_img, (4*55, y_position), resized_line_img )\n",
    "\n",
    "canvas_image.save('./new_img.png') \n",
    "\n"
   ]
  }
 ],
 "metadata": {
  "kernelspec": {
   "display_name": "Python 3",
   "language": "python",
   "name": "python3"
  },
  "language_info": {
   "codemirror_mode": {
    "name": "ipython",
    "version": 3
   },
   "file_extension": ".py",
   "mimetype": "text/x-python",
   "name": "python",
   "nbconvert_exporter": "python",
   "pygments_lexer": "ipython3",
   "version": "3.11.3"
  }
 },
 "nbformat": 4,
 "nbformat_minor": 2
}
