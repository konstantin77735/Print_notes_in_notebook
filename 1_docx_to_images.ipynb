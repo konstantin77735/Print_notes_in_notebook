{
 "cells": [
  {
   "cell_type": "code",
   "execution_count": 1,
   "metadata": {},
   "outputs": [],
   "source": [
    "import os\n",
    "import pytesseract\n",
    "from docx2pdf import convert\n",
    "import subprocess\n",
    "import time\n",
    "import win32com.client  # Убедитесь, что этот импорт присутствует\n",
    "import fitz  # PyMuPDF\n",
    "from PIL import Image, ImageDraw, ImageFont\n",
    "\n",
    "import tkinter as tk\n",
    "from tkinter import messagebox\n",
    "from docx import Document"
   ]
  },
  {
   "cell_type": "code",
   "execution_count": 2,
   "metadata": {},
   "outputs": [],
   "source": [
    "#  ----   Основные переменные для пользоваетля\n",
    "\n",
    "input_dir = './input' # в этой папке лежат .docx-файлы лекций\n",
    "pdf_dir = './pdf' # в эту папку скрипт сконвертирует .docx-файлы из input_dir. (это необходимо, т.к. скрипт видит страницы именно в pdf формате (а не в docx))\n",
    "\n",
    " # в этой папке скрипт создаст (для каждой лекции из input) свою подпапку\n",
    "output_dir = './output'\n",
    "# в папке output, в подпапке каждой лекции лежат две папки: to_combine и to_print\n",
    "\n",
    "# В этой папке лежат сделанные из pdf картинки страниц текста\n",
    "# эта папка лежит в output_dir.\n",
    "to_combine_dir = './to_combine' \n",
    "\n",
    "# В этой папке лежат объединенные специфическим образом для печати на А4 картинки из папки to_combine\n",
    "# Это и есть готовые конспекты к печати\n",
    "to_print = './to_print'\n",
    "\n",
    "# Загружаем шрифт нашего почерка@\n",
    "font = ImageFont.truetype(\"./fonts/MyFont1.otf\", size=67)\n",
    "\n",
    "note_type = 'cells' #клеточки. note_type='lines' - лист в линейку\n",
    "\n",
    "font_color = 'blue' #цвет шрифта\n",
    "\n",
    "# Задаем вертикальный шаг между строками\n",
    "line_spacing = 110  # 55 - писать на каждой строке, 110 - пропускать одну строку между двумя строками текста\n",
    "\n",
    "#Адрес файла запуска Microsoft Word\n",
    "word_path = r\"C:\\Program Files\\Microsoft Office\\root\\Office16\\WINWORD.EXE\" \n"
   ]
  },
  {
   "cell_type": "code",
   "execution_count": 3,
   "metadata": {},
   "outputs": [
    {
     "name": "stdout",
     "output_type": "stream",
     "text": [
      "67\n"
     ]
    }
   ],
   "source": [
    "print(font.size)"
   ]
  },
  {
   "cell_type": "code",
   "execution_count": 4,
   "metadata": {},
   "outputs": [],
   "source": [
    "#очищаем папку output от картинок и pdf-файлов из предыдущих итераций\n",
    "def delete_files_in_folder(folder):\n",
    "    if os.path.exists(folder):  # Проверяем, что папка существует\n",
    "        for root, dirs, files in os.walk(folder):\n",
    "            for file in files:\n",
    "                file_path = os.path.join(root, file)\n",
    "                if file.lower().endswith(('.png', '.jpg', '.jpeg', '.gif', '.bmp', '.pdf')):\n",
    "                    print(f'Удаление файла: {file_path}')\n",
    "                    os.remove(file_path)  # Удаляем файл\n",
    "    else:\n",
    "        print(f\"Папка {folder} не существует.\")\n",
    "\n",
    "# пользователю задаётся вопрос: очистить папки: input_dir, pdf_dir, output_dir, to_combine_dir\n",
    "# пользователь может поставить галочки в чекбоксы напротив нужных ему папок\n",
    "# после чего идет цикл по выбранным папкам, и функция delete_files_in_folder очищает содержимое"
   ]
  },
  {
   "cell_type": "code",
   "execution_count": 5,
   "metadata": {},
   "outputs": [],
   "source": [
    "# Функция для обработки выбранных папок\n",
    "def delete_selected_folders():\n",
    "    selected_folders = []\n",
    "    \n",
    "        # Функция для поиска и удаления файлов во всех папках to_print и to_combine\n",
    "    def delete_in_all_subfolders(base_folder, target_folder_name):\n",
    "        for root, dirs, files in os.walk(base_folder):\n",
    "            if target_folder_name in dirs:\n",
    "                target_folder_path = os.path.join(root, target_folder_name)\n",
    "                print(f\"Очистка папки: {target_folder_path}\")\n",
    "                delete_files_in_folder(target_folder_path)\n",
    "    \n",
    "    # Проверяем, какие чекбоксы выбраны\n",
    "    if var_pdf_dir.get():\n",
    "        selected_folders.append(pdf_dir)\n",
    "    if var_to_print.get():\n",
    "        # Удаление файлов во всех папках to_print в папке output\n",
    "        delete_in_all_subfolders('./output', 'to_print')\n",
    "    if var_to_combine_dir.get():\n",
    "        # Удаление файлов во всех папках to_combine в папке output\n",
    "        delete_in_all_subfolders('./output', 'to_combine')\n",
    "\n",
    "    if selected_folders:\n",
    "        # Подтверждение действия для папок input и pdf\n",
    "        result = messagebox.askquestion(\"Подтверждение\", \"Вы уверены, что хотите очистить выбранные папки?\")\n",
    "        if result == 'yes':\n",
    "            for folder in selected_folders:\n",
    "                print(f\"Очистка папки: {folder}\")\n",
    "                delete_files_in_folder(folder)  # Очищаем выбранную папку\n",
    "            messagebox.showinfo(\"Готово\", \"Выбранные папки успешно очищены.\")\n",
    "        else:\n",
    "            messagebox.showinfo(\"Отмена\", \"Очистка папок отменена.\")"
   ]
  },
  {
   "cell_type": "code",
   "execution_count": 6,
   "metadata": {},
   "outputs": [],
   "source": [
    "#В папке output могут быть сколько угодно разных папок, внутри которых могут быть папки to_print и to_combine_dir\n",
    "#Если пользователь выберет чекбокс удалить to_print/to_combine_dir, то удалится должны все файлы во всех папках to_print/to_combine_dir\n",
    "\n",
    "# Папки для очистки\n",
    "input_dir = './input'\n",
    "pdf_dir = './pdf'\n",
    "to_print_dir = './to_print'\n",
    "to_combine_dir = './to_combine'\n",
    "\n",
    "\n",
    "# Создаем окно\n",
    "root = tk.Tk()\n",
    "root.title(\"Очистка папок\")\n",
    "\n",
    "# Создаем переменные для чекбоксов\n",
    "var_pdf_dir = tk.BooleanVar()\n",
    "var_to_combine_dir = tk.BooleanVar()\n",
    "var_to_print = tk.BooleanVar()\n",
    "\n",
    "# Создаем чекбоксы\n",
    "tk.Checkbutton(root, text=\"Очистить папку pdf\", variable=var_pdf_dir).pack(anchor=tk.W)\n",
    "tk.Checkbutton(root, text=\"Очистить папку output/to_print\", variable=var_to_print).pack(anchor=tk.W)\n",
    "tk.Checkbutton(root, text=\"Очистить папку output/to_combine\", variable=var_to_combine_dir).pack(anchor=tk.W)\n",
    "\n",
    "# Кнопка для выполнения очистки\n",
    "tk.Button(root, text=\"Очистить выбранные папки\", command=delete_selected_folders).pack(pady=10)\n",
    "\n",
    "# Запуск окна\n",
    "root.mainloop()\n"
   ]
  },
  {
   "cell_type": "code",
   "execution_count": 7,
   "metadata": {},
   "outputs": [],
   "source": [
    "def create_dir_if_it_doesnt_exist(root_dir, dir):\n",
    "    path = os.path.join(root_dir, dir,)\n",
    "        \n",
    "    if not os.path.exists(path):\n",
    "        os.makedirs(path)\n",
    "        \n",
    "create_dir_if_it_doesnt_exist('./', input_dir)\n",
    "create_dir_if_it_doesnt_exist('./', pdf_dir)\n",
    "create_dir_if_it_doesnt_exist('./', output_dir)\n"
   ]
  },
  {
   "cell_type": "code",
   "execution_count": 8,
   "metadata": {},
   "outputs": [],
   "source": [
    "img_half_empty = './img/empty_half.png'"
   ]
  },
  {
   "cell_type": "code",
   "execution_count": 9,
   "metadata": {},
   "outputs": [],
   "source": [
    "# Убедитесь, что путь к изображению корректный и изображение загружено\n",
    "img_template_path=''\n",
    "\n",
    "if note_type == 'cells':\n",
    "    img_template_path = './img/cells_half.png'\n",
    "else:\n",
    "    img_template_path = './img/lines_half.png'\n",
    "\n",
    "\n",
    "if not os.path.exists(img_template_path):\n",
    "    raise FileNotFoundError(f\"Изображение не найдено по пути: {img_template_path}\")\n",
    "\n",
    "# Открываем изображение с клетками img_half_empty\n",
    "#img_template = Image.open(img_half_empty)\n",
    "\n",
    "img_template = Image.open(img_template_path)"
   ]
  },
  {
   "cell_type": "code",
   "execution_count": 10,
   "metadata": {},
   "outputs": [],
   "source": [
    "def run_ms_word(word_path):\n",
    "    # Запускаем Microsoft Word\n",
    "    try:\n",
    "        is_ms_word_closed = subprocess.Popen([word_path])\n",
    "        print(\"Microsoft Word запущен.\")\n",
    "    except Exception as e:\n",
    "        print(f\"Не удалось запустить Microsoft Word: {e}\")\n",
    "        "
   ]
  },
  {
   "cell_type": "code",
   "execution_count": 11,
   "metadata": {},
   "outputs": [],
   "source": [
    "def is_ms_word_running(process_name=\"WINWORD.EXE\"):\n",
    "    \"\"\"Проверяет, работает ли Microsoft Word и полностью ли он загружен.\"\"\"\n",
    "    try:\n",
    "        # Получаем список процессов и проверяем наличие Microsoft Word\n",
    "        output = subprocess.check_output([\"tasklist\"], text=True)\n",
    "        \n",
    "        if process_name in output:\n",
    "            print(\"MS Word работает.\")\n",
    "            \n",
    "            # Дожидаемся полной загрузки Word\n",
    "            while True:\n",
    "                try:\n",
    "                    # Проверяем, доступен ли объект Word\n",
    "                    word_app = win32com.client.GetActiveObject(\"Word.Application\")\n",
    "                    if word_app is not None:\n",
    "                        print(\"MS Word полностью загружен и готов к работе.\")\n",
    "                        return True\n",
    "                except Exception:\n",
    "                    # Если объект недоступен, продолжаем ожидание\n",
    "                    print(\"Ожидание полной загрузки MS Word...\")\n",
    "                    time.sleep(1)  # Ждем 1 секунду перед следующей проверкой\n",
    "            \n",
    "        else:\n",
    "            print(\"MS Word не запущен.\")\n",
    "            return False\n",
    "    except Exception as e:\n",
    "        print(f\"Ошибка при проверке процессов: {e}\")\n",
    "        return False\n",
    "    "
   ]
  },
  {
   "cell_type": "code",
   "execution_count": 12,
   "metadata": {},
   "outputs": [
    {
     "name": "stdout",
     "output_type": "stream",
     "text": [
      "Лабораторная_работа_1.4.docx\n",
      "MS Word не запущен.\n",
      "Microsoft Word запущен.\n",
      "MS Word работает.\n",
      "Ожидание полной загрузки MS Word...\n",
      "MS Word полностью загружен и готов к работе.\n"
     ]
    },
    {
     "data": {
      "application/vnd.jupyter.widget-view+json": {
       "model_id": "ca28980000624a4cb6e22b7b76c9d7aa",
       "version_major": 2,
       "version_minor": 0
      },
      "text/plain": [
       "  0%|          | 0/1 [00:00<?, ?it/s]"
      ]
     },
     "metadata": {},
     "output_type": "display_data"
    },
    {
     "name": "stdout",
     "output_type": "stream",
     "text": [
      "Конвертировано: ./input/Лабораторная_работа_1.4.docx в ./pdf/Лабораторная_работа_1.4.pdf\n",
      "./input/Лабораторная_работа_1.4.docx\n"
     ]
    }
   ],
   "source": [
    "for filename in os.listdir(input_dir):\n",
    "    if \".docx\" in filename.lower() and \"$\" not in filename:\n",
    "        print(filename)\n",
    "        \n",
    "        filename_no_ext = filename[:-5]\n",
    "        temp_pdf_path = (f\"{pdf_dir}/{filename_no_ext}.pdf\")\n",
    "        \n",
    "\n",
    "        # Если Word запущен через subroccess:\n",
    "        if is_ms_word_running():\n",
    "             # Microsoft Word не успевает запуститься до запуска этой строки. Как исправить?\n",
    "            convert( (f\"{input_dir}/{filename}\"), temp_pdf_path)\n",
    "        \n",
    "        \n",
    "        #Иначе запускаем его и \n",
    "        else:\n",
    "            run_ms_word(word_path)\n",
    "            # Как здесь дождаться когда Microsoft запустится? После этого нужно выполнить этот код:\n",
    "            \n",
    "\n",
    "            # Ожидаем, пока Microsoft Word не запустится\n",
    "            while not is_ms_word_running():\n",
    "                print(\"Ожидание запуска Microsoft Word...\")\n",
    "                time.sleep(2)  # Ждем 1 секунду перед следующей проверкой\n",
    "\n",
    "            # После того как Microsoft Word запущен, выполняем конвертацию\n",
    "            try:\n",
    "                convert(os.path.join(input_dir, filename), temp_pdf_path)\n",
    "                print(f'Конвертировано: {input_dir}/{filename} в {temp_pdf_path}')\n",
    "            except Exception as e:\n",
    "                print(f'Ошибка при конвертации: {e}')\n",
    "\n",
    "  \n",
    "        print(f\"{input_dir}/{filename}\")\n",
    "        "
   ]
  },
  {
   "cell_type": "code",
   "execution_count": 13,
   "metadata": {},
   "outputs": [
    {
     "name": "stdout",
     "output_type": "stream",
     "text": [
      "Лабораторная_работа_1.4.docx\n"
     ]
    }
   ],
   "source": [
    "for input_filename in os.listdir(input_dir):\n",
    "    input_path = os.path.join(input_dir, input_filename)\n",
    "        \n",
    "    if os.path.isfile(input_path) and 'docx' in input_filename.lower() and '$' not in input_filename:\n",
    "        print(input_filename)\n",
    "        create_dir_if_it_doesnt_exist(output_dir, input_filename[:-5])"
   ]
  },
  {
   "cell_type": "code",
   "execution_count": 14,
   "metadata": {},
   "outputs": [],
   "source": [
    "\n",
    "# Функция для обработки текста с форматированием из docx\n",
    "def extract_text_with_styles(docx_path):\n",
    "    doc = Document(docx_path)\n",
    "    styled_text = []\n",
    "    \n",
    "    # Перебираем все параграфы\n",
    "    for paragraph in doc.paragraphs:\n",
    "        paragraph_styles = {\n",
    "            'alignment': paragraph.alignment  # Горизонтальное выравнивание (0 - слева, 1 - центр, 2 - справа)\n",
    "        }\n",
    "        line = []\n",
    "        for run in paragraph.runs:\n",
    "            text = run.text.strip()\n",
    "            styles = []\n",
    "            \n",
    "            if run.bold:\n",
    "                styles.append('bold')\n",
    "            if run.italic:\n",
    "                styles.append('italic')\n",
    "            if run.underline:\n",
    "                styles.append('underline')\n",
    "            if run.font.superscript:\n",
    "                styles.append('superscript')\n",
    "            if run.font.subscript:\n",
    "                styles.append('subscript')\n",
    "            \n",
    "            line.append({\n",
    "                'text': text,\n",
    "                'styles': styles\n",
    "            })\n",
    "        \n",
    "        if line:\n",
    "            styled_text.append({\n",
    "                'line': line,\n",
    "                'paragraph_styles': paragraph_styles\n",
    "            })\n",
    "    \n",
    "    return styled_text"
   ]
  },
  {
   "cell_type": "code",
   "execution_count": 15,
   "metadata": {},
   "outputs": [
    {
     "name": "stdout",
     "output_type": "stream",
     "text": [
      "Рисуем текст на странице 1, строка 1:                      ЛAабораторная работа 1. 4 \n"
     ]
    },
    {
     "name": "stderr",
     "output_type": "stream",
     "text": [
      "C:\\Users\\Personal Computer\\AppData\\Local\\Temp\\ipykernel_34392\\1611611034.py:36: DeprecationWarning: getsize is deprecated and will be removed in Pillow 10 (2023-07-01). Use getbbox or getlength instead.\n",
      "  line_height = font.getsize(char_a)[1]  # Получаем высоту строки\n"
     ]
    },
    {
     "ename": "TypeError",
     "evalue": "'float' object cannot be interpreted as an integer",
     "output_type": "error",
     "traceback": [
      "\u001b[1;31m---------------------------------------------------------------------------\u001b[0m",
      "\u001b[1;31mTypeError\u001b[0m                                 Traceback (most recent call last)",
      "Cell \u001b[1;32mIn[15], line 68\u001b[0m\n\u001b[0;32m     62\u001b[0m     line_img\u001b[38;5;241m.\u001b[39msave(\u001b[38;5;124mf\u001b[39m\u001b[38;5;124m'\u001b[39m\u001b[38;5;132;01m{\u001b[39;00moutput_dir\u001b[38;5;132;01m}\u001b[39;00m\u001b[38;5;124m/\u001b[39m\u001b[38;5;132;01m{\u001b[39;00minput_filename[:\u001b[38;5;241m-\u001b[39m\u001b[38;5;241m5\u001b[39m]\u001b[38;5;132;01m}\u001b[39;00m\u001b[38;5;124m/\u001b[39m\u001b[38;5;132;01m{\u001b[39;00mto_combine_dir\u001b[38;5;132;01m}\u001b[39;00m\u001b[38;5;124m/line \u001b[39m\u001b[38;5;132;01m{\u001b[39;00mpage_num\u001b[38;5;250m \u001b[39m\u001b[38;5;241m+\u001b[39m\u001b[38;5;250m \u001b[39m\u001b[38;5;241m1\u001b[39m\u001b[38;5;132;01m}\u001b[39;00m\u001b[38;5;124m.png\u001b[39m\u001b[38;5;124m'\u001b[39m)  \u001b[38;5;66;03m# Нумерация страниц начинается с 1\u001b[39;00m\n\u001b[0;32m     64\u001b[0m     \u001b[38;5;66;03m#resized_line_img.save(f'{output_dir}/{input_filename[:-5]}/{to_combine_dir}/resized_line {page_num + 1}.png')  # Нумерация страниц начинается с 1\u001b[39;00m\n\u001b[0;32m     65\u001b[0m \n\u001b[0;32m     66\u001b[0m \n\u001b[0;32m     67\u001b[0m     \u001b[38;5;66;03m#вставить в канвас картинку(строка, координаты, маска картинки)\u001b[39;00m\n\u001b[1;32m---> 68\u001b[0m     \u001b[43mcanvas_image\u001b[49m\u001b[38;5;241;43m.\u001b[39;49m\u001b[43mpaste\u001b[49m\u001b[43m(\u001b[49m\u001b[43mresized_line_img\u001b[49m\u001b[43m,\u001b[49m\u001b[43m \u001b[49m\u001b[43m(\u001b[49m\u001b[38;5;241;43m4\u001b[39;49m\u001b[38;5;241;43m*\u001b[39;49m\u001b[38;5;241;43m55\u001b[39;49m\u001b[43m,\u001b[49m\u001b[43m \u001b[49m\u001b[43my_position\u001b[49m\u001b[38;5;241;43m+\u001b[39;49m\u001b[43m(\u001b[49m\u001b[43mcoeff\u001b[49m\u001b[38;5;241;43m/\u001b[39;49m\u001b[38;5;241;43m2\u001b[39;49m\u001b[43m)\u001b[49m\u001b[43m)\u001b[49m\u001b[43m,\u001b[49m\u001b[43m \u001b[49m\u001b[43mresized_line_img\u001b[49m\u001b[43m)\u001b[49m\n\u001b[0;32m     71\u001b[0m \u001b[38;5;66;03m# Сохраняем результат для текущей страницы\u001b[39;00m\n\u001b[0;32m     72\u001b[0m     canvas_image\u001b[38;5;241m.\u001b[39msave(\u001b[38;5;124mf\u001b[39m\u001b[38;5;124m'\u001b[39m\u001b[38;5;132;01m{\u001b[39;00moutput_dir\u001b[38;5;132;01m}\u001b[39;00m\u001b[38;5;124m/\u001b[39m\u001b[38;5;132;01m{\u001b[39;00minput_filename[:\u001b[38;5;241m-\u001b[39m\u001b[38;5;241m5\u001b[39m]\u001b[38;5;132;01m}\u001b[39;00m\u001b[38;5;124m/\u001b[39m\u001b[38;5;132;01m{\u001b[39;00mto_combine_dir\u001b[38;5;132;01m}\u001b[39;00m\u001b[38;5;124m/\u001b[39m\u001b[38;5;132;01m{\u001b[39;00mpage_num\u001b[38;5;250m \u001b[39m\u001b[38;5;241m+\u001b[39m\u001b[38;5;250m \u001b[39m\u001b[38;5;241m1\u001b[39m\u001b[38;5;132;01m}\u001b[39;00m\u001b[38;5;124m.png\u001b[39m\u001b[38;5;124m'\u001b[39m)  \u001b[38;5;66;03m# Нумерация страниц начинается с 1\u001b[39;00m\n",
      "File \u001b[1;32mc:\\Python311\\Lib\\site-packages\\PIL\\Image.py:1732\u001b[0m, in \u001b[0;36mImage.paste\u001b[1;34m(self, im, box, mask)\u001b[0m\n\u001b[0;32m   1730\u001b[0m \u001b[38;5;28;01mif\u001b[39;00m mask:\n\u001b[0;32m   1731\u001b[0m     mask\u001b[38;5;241m.\u001b[39mload()\n\u001b[1;32m-> 1732\u001b[0m     \u001b[38;5;28;43mself\u001b[39;49m\u001b[38;5;241;43m.\u001b[39;49m\u001b[43mim\u001b[49m\u001b[38;5;241;43m.\u001b[39;49m\u001b[43mpaste\u001b[49m\u001b[43m(\u001b[49m\u001b[43mim\u001b[49m\u001b[43m,\u001b[49m\u001b[43m \u001b[49m\u001b[43mbox\u001b[49m\u001b[43m,\u001b[49m\u001b[43m \u001b[49m\u001b[43mmask\u001b[49m\u001b[38;5;241;43m.\u001b[39;49m\u001b[43mim\u001b[49m\u001b[43m)\u001b[49m\n\u001b[0;32m   1733\u001b[0m \u001b[38;5;28;01melse\u001b[39;00m:\n\u001b[0;32m   1734\u001b[0m     \u001b[38;5;28mself\u001b[39m\u001b[38;5;241m.\u001b[39mim\u001b[38;5;241m.\u001b[39mpaste(im, box)\n",
      "\u001b[1;31mTypeError\u001b[0m: 'float' object cannot be interpreted as an integer"
     ]
    }
   ],
   "source": [
    "for input_filename in os.listdir(input_dir):\n",
    "    input_path = os.path.join(input_dir, input_filename)\n",
    "\n",
    "    if os.path.isfile(input_path) and 'docx' in input_filename.lower() and '$' not in input_filename:\n",
    "        #print(input_filename)\n",
    "        create_dir_if_it_doesnt_exist(output_dir, input_filename[:-5])\n",
    "\n",
    "        # Открываем PDF-документ\n",
    "        pdf_path = os.path.join(pdf_dir, f'{input_filename[:-5]}.pdf')\n",
    "        \n",
    "        create_dir_if_it_doesnt_exist(f'{output_dir}/{input_filename[:-5]}', to_combine_dir)\n",
    "\n",
    "        doc = fitz.open(pdf_path)\n",
    "\n",
    "        # Перебираем страницы PDF\n",
    "        for page_num in range(len(doc)):\n",
    "            # Получаем страницу\n",
    "            page = doc.load_page(page_num)\n",
    "            \n",
    "            # Извлекаем текст с форматированием\n",
    "            text = page.get_text(\"text\")  # Извлекаем текст с форматированием\n",
    "        \n",
    "            # Разбиваем текст на отдельные строки\n",
    "            text_lines = text.splitlines()\n",
    "            \n",
    "            # Создаем копию шаблона для каждой страницы\n",
    "            #img = img_template.copy()\n",
    "            #draw = ImageDraw.Draw(img)\n",
    "            \n",
    "            \n",
    "            \n",
    "            \n",
    "             \n",
    "            # Берем высоту буквы по англ. символу \"a\"\n",
    "            char_a = 'a' \n",
    "            line_height = font.getsize(char_a)[1]  # Получаем высоту строки\n",
    "                \n",
    "            canvas_image_path = './img/cells_half.png'\n",
    "            line_image_path = './img/line_empty.png'    \n",
    "            \n",
    "            # Переносим строки текста на соответствующие линии\n",
    "            for i, line in enumerate(text_lines):\n",
    "                \n",
    "                \n",
    "                                \n",
    "                y_position = (i + 2) * line_spacing - line_height  # Выравниваем низ текста по линии\n",
    "                \n",
    "                coeff = 20\n",
    "                \n",
    "                canvas_image = Image.open(canvas_image_path)\n",
    "                \n",
    "                line_img = Image.open(line_image_path)                \n",
    "                draw = ImageDraw.Draw(line_img)\n",
    "                \n",
    "                print(f'Рисуем текст на странице {page_num + 1}, строка {i + 1}: {line}')\n",
    "                #draw.text((4 * 55, y_position), line, fill=font_color, font=font)\n",
    "                draw.text((0,0), line, fill=font_color, font=font)\n",
    "                \n",
    "                resized_line_img = line_img.resize((1660, line_spacing*2-coeff))\n",
    "                \n",
    "                \n",
    "                line_img.save(f'{output_dir}/{input_filename[:-5]}/{to_combine_dir}/line {page_num + 1}.png')  # Нумерация страниц начинается с 1\n",
    "                \n",
    "                #resized_line_img.save(f'{output_dir}/{input_filename[:-5]}/{to_combine_dir}/resized_line {page_num + 1}.png')  # Нумерация страниц начинается с 1\n",
    "\n",
    "\n",
    "                #вставить в канвас картинку(строка, координаты, маска картинки)\n",
    "                canvas_image.paste(resized_line_img, (4*55, y_position+int(coeff/2)), resized_line_img)\n",
    "\n",
    "                \n",
    "            # Сохраняем результат для текущей страницы\n",
    "                canvas_image.save(f'{output_dir}/{input_filename[:-5]}/{to_combine_dir}/{page_num + 1}.png')  # Нумерация страниц начинается с 1\n",
    "                canvas_image_path=f'{output_dir}/{input_filename[:-5]}/{to_combine_dir}/{page_num + 1}.png'\n",
    "\n",
    "        # Закрываем PDF-документ\n",
    "        doc.close()"
   ]
  }
 ],
 "metadata": {
  "kernelspec": {
   "display_name": "Python 3",
   "language": "python",
   "name": "python3"
  },
  "language_info": {
   "codemirror_mode": {
    "name": "ipython",
    "version": 3
   },
   "file_extension": ".py",
   "mimetype": "text/x-python",
   "name": "python",
   "nbconvert_exporter": "python",
   "pygments_lexer": "ipython3",
   "version": "3.11.3"
  }
 },
 "nbformat": 4,
 "nbformat_minor": 2
}
